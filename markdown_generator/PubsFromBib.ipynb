{
 "cells": [
  {
   "cell_type": "markdown",
   "metadata": {},
   "source": [
    "# Publications markdown generator for academicpages\n",
    "\n",
    "Takes a set of bibtex of publications and converts them for use with [academicpages.github.io](academicpages.github.io). This is an interactive Jupyter notebook ([see more info here](http://jupyter-notebook-beginner-guide.readthedocs.io/en/latest/what_is_jupyter.html)). \n",
    "\n",
    "The core python code is also in `pubsFromBibs.py`. \n",
    "Run either from the `markdown_generator` folder after replacing updating the publist dictionary with:\n",
    "* bib file names\n",
    "* specific venue keys based on your bib file preferences\n",
    "* any specific pre-text for specific files\n",
    "* Collection Name (future feature)\n",
    "\n",
    "TODO: Make this work with other databases of citations, \n",
    "TODO: Merge this with the existing TSV parsing solution"
   ]
  },
  {
   "cell_type": "code",
   "execution_count": 10,
   "metadata": {},
   "outputs": [],
   "source": [
    "from pybtex.database.input import bibtex\n",
    "import pybtex.database.input.bibtex \n",
    "from time import strptime\n",
    "import string\n",
    "import html\n",
    "import os\n",
    "import re"
   ]
  },
  {
   "cell_type": "code",
   "execution_count": 11,
   "metadata": {},
   "outputs": [],
   "source": [
    "#todo: incorporate different collection types rather than a catch all publications, requires other changes to template\n",
    "publist = {\n",
    "    \"journal\":{\n",
    "        \"file\": \"pubs.bib\",\n",
    "        \"venuekey\" : \"journal\",\n",
    "        \"venue-pretext\" : \"\",\n",
    "        \"collection\" : {\"name\":\"publications\",\n",
    "                        \"permalink\":\"/publication/\"}\n",
    "    },\n",
    "#     \"proceeding\": {\n",
    "#         \"file\" : \"proceedings.bib\",\n",
    "#         \"venuekey\": \"booktitle\",\n",
    "#         \"venue-pretext\": \"In the proceedings of \",\n",
    "#         \"collection\" : {\"name\":\"publications\",\n",
    "#                         \"permalink\":\"/publication/\"}\n",
    "        \n",
    "#     }\n",
    "}"
   ]
  },
  {
   "cell_type": "code",
   "execution_count": 12,
   "metadata": {},
   "outputs": [],
   "source": [
    "html_escape_table = {\n",
    "    \"&\": \"&amp;\",\n",
    "    '\"': \"&quot;\",\n",
    "    \"'\": \"&apos;\"\n",
    "    }\n",
    "\n",
    "def html_escape(text):\n",
    "    \"\"\"Produce entities within text.\"\"\"\n",
    "    return \"\".join(html_escape_table.get(c,c) for c in text)"
   ]
  },
  {
   "cell_type": "code",
   "execution_count": 13,
   "metadata": {},
   "outputs": [
    {
     "data": {
      "text/plain": [
       "'pubs.bib'"
      ]
     },
     "execution_count": 13,
     "metadata": {},
     "output_type": "execute_result"
    }
   ],
   "source": [
    "publist['journal'][\"file\"]"
   ]
  },
  {
   "cell_type": "code",
   "execution_count": 14,
   "metadata": {},
   "outputs": [
    {
     "ename": "NameError",
     "evalue": "name 'pubsource' is not defined",
     "output_type": "error",
     "traceback": [
      "\u001b[0;31m---------------------------------------------------------------------------\u001b[0m",
      "\u001b[0;31mNameError\u001b[0m                                 Traceback (most recent call last)",
      "\u001b[0;32m<ipython-input-14-172212a6288c>\u001b[0m in \u001b[0;36m<module>\u001b[0;34m\u001b[0m\n\u001b[1;32m      1\u001b[0m \u001b[0mparser\u001b[0m \u001b[0;34m=\u001b[0m \u001b[0mbibtex\u001b[0m\u001b[0;34m.\u001b[0m\u001b[0mParser\u001b[0m\u001b[0;34m(\u001b[0m\u001b[0;34m)\u001b[0m\u001b[0;34m\u001b[0m\u001b[0;34m\u001b[0m\u001b[0m\n\u001b[0;32m----> 2\u001b[0;31m \u001b[0mbibdata\u001b[0m \u001b[0;34m=\u001b[0m \u001b[0mparser\u001b[0m\u001b[0;34m.\u001b[0m\u001b[0mparse_file\u001b[0m\u001b[0;34m(\u001b[0m\u001b[0mpublist\u001b[0m\u001b[0;34m[\u001b[0m\u001b[0mpubsource\u001b[0m\u001b[0;34m]\u001b[0m\u001b[0;34m[\u001b[0m\u001b[0;34m\"file\"\u001b[0m\u001b[0;34m]\u001b[0m\u001b[0;34m)\u001b[0m\u001b[0;34m\u001b[0m\u001b[0;34m\u001b[0m\u001b[0m\n\u001b[0m\u001b[1;32m      3\u001b[0m \u001b[0;34m\u001b[0m\u001b[0m\n\u001b[1;32m      4\u001b[0m \u001b[0;31m#loop through the individual references in a given bibtex file\u001b[0m\u001b[0;34m\u001b[0m\u001b[0;34m\u001b[0m\u001b[0;34m\u001b[0m\u001b[0m\n\u001b[1;32m      5\u001b[0m \u001b[0;32mfor\u001b[0m \u001b[0mbib_id\u001b[0m \u001b[0;32min\u001b[0m \u001b[0mbibdata\u001b[0m\u001b[0;34m.\u001b[0m\u001b[0mentries\u001b[0m\u001b[0;34m:\u001b[0m\u001b[0;34m\u001b[0m\u001b[0;34m\u001b[0m\u001b[0m\n",
      "\u001b[0;31mNameError\u001b[0m: name 'pubsource' is not defined"
     ]
    }
   ],
   "source": [
    "parser = bibtex.Parser()\n",
    "bibdata = parser.parse_file(publist[pubsource][\"file\"])\n",
    "\n",
    "#loop through the individual references in a given bibtex file\n",
    "for bib_id in bibdata.entries:\n",
    "    #reset default date\n",
    "    pub_year = \"1900\"\n",
    "    pub_month = \"01\"\n",
    "    pub_day = \"01\"\n",
    "\n",
    "    b = bibdata.entries[bib_id].fields"
   ]
  },
  {
   "cell_type": "code",
   "execution_count": 15,
   "metadata": {},
   "outputs": [
    {
     "ename": "NameError",
     "evalue": "name 'b' is not defined",
     "output_type": "error",
     "traceback": [
      "\u001b[0;31m---------------------------------------------------------------------------\u001b[0m",
      "\u001b[0;31mNameError\u001b[0m                                 Traceback (most recent call last)",
      "\u001b[0;32m<ipython-input-15-89e6c98d9288>\u001b[0m in \u001b[0;36m<module>\u001b[0;34m\u001b[0m\n\u001b[0;32m----> 1\u001b[0;31m \u001b[0mb\u001b[0m\u001b[0;34m\u001b[0m\u001b[0;34m\u001b[0m\u001b[0m\n\u001b[0m",
      "\u001b[0;31mNameError\u001b[0m: name 'b' is not defined"
     ]
    }
   ],
   "source": [
    "b"
   ]
  },
  {
   "cell_type": "code",
   "execution_count": null,
   "metadata": {},
   "outputs": [],
   "source": []
  },
  {
   "cell_type": "code",
   "execution_count": 17,
   "metadata": {
    "scrolled": false
   },
   "outputs": [
    {
     "name": "stdout",
     "output_type": "stream",
     "text": [
      "SUCESSFULLY PARSED 2020RPPh...83l4201A: \" {New opportunities at the next-generation neutrino experimen ... \"\n",
      "SUCESSFULLY PARSED 2020arXiv201202142H: \" {Novel multi-lepton signatures of dark sectors in light meso ... \"\n",
      "SUCESSFULLY PARSED 2020PhRvD.102e5016H: \" {Pair production of dark particles in meson decays}  \"\n",
      "SUCESSFULLY PARSED 2020arXiv200811851H: \" {Constraints on Decaying Sterile Neutrinos from Solar Antine ... \"\n",
      "SUCESSFULLY PARSED Abdullahi:2020nyr: \" {A dark seesaw solution to low energy anomalies: MiniBooNE,  ... \"\n",
      "SUCESSFULLY PARSED 2020PhRvD.101k5025B: \" {Dark neutrinos and a three-portal connection to the standar ... \"\n",
      "SUCESSFULLY PARSED 2019PhRvL.123z1801A: \" {Testing New Physics Explanations of the MiniBooNE Anomaly a ... \"\n",
      "SUCESSFULLY PARSED 2019PhRvD.100e5012B: \" {Z$^{'}$s in neutrino scattering at DUNE}  \"\n",
      "SUCESSFULLY PARSED 2019arXiv190700991B: \" {Neutrino Non-Standard Interactions: A Status Report}  \"\n",
      "SUCESSFULLY PARSED 2019PhRvD..99i1701B: \" {Neutrino masses from a dark neutrino sector below the elect ... \"\n",
      "SUCESSFULLY PARSED 2019JHEP...01..119B: \" {Neutrino trident scattering at near detectors}  \"\n",
      "SUCESSFULLY PARSED 2017arXiv170509214B: \" {Light Sterile Neutrinos at $\\nu$STORM: Decoherence and CP v ... \"\n"
     ]
    }
   ],
   "source": [
    "for pubsource in publist:\n",
    "    parser = bibtex.Parser()\n",
    "    bibdata = parser.parse_file(publist[pubsource][\"file\"])\n",
    "\n",
    "    #loop through the individual references in a given bibtex file\n",
    "    for bib_id in bibdata.entries:\n",
    "        #reset default date\n",
    "        pub_year = \"1900\"\n",
    "        pub_month = \"01\"\n",
    "        pub_day = \"01\"\n",
    "        \n",
    "        b = bibdata.entries[bib_id].fields\n",
    "        \n",
    "        try:\n",
    "            pub_year = f'{b[\"year\"]}'\n",
    "\n",
    "            #todo: this hack for month and day needs some cleanup\n",
    "            if \"month\" in b.keys(): \n",
    "                if(len(b[\"month\"])<3):\n",
    "                    pub_month = \"0\"+b[\"month\"]\n",
    "                    pub_month = pub_month[-2:]\n",
    "                elif(b[\"month\"] not in range(12)):\n",
    "                    tmnth = strptime(b[\"month\"][:3],'%b').tm_mon   \n",
    "                    pub_month = \"{:02d}\".format(tmnth) \n",
    "                else:\n",
    "                    pub_month = str(b[\"month\"])\n",
    "            if \"day\" in b.keys(): \n",
    "                pub_day = str(b[\"day\"])\n",
    "\n",
    "                \n",
    "            pub_date = pub_year+\"-\"+pub_month+\"-\"+pub_day\n",
    "            \n",
    "            #strip out {} as needed (some bibtex entries that maintain formatting)\n",
    "            clean_title = b[\"title\"].replace(\"{\", \"\").replace(\"}\",\"\").replace(\"\\\\\",\"\").replace(\" \",\"-\")    \n",
    "\n",
    "            \n",
    "            url_slug = re.sub(\"\\\\[.*\\\\]|[^a-zA-Z0-9_-]\", \"\", clean_title)\n",
    "            url_slug = url_slug.replace(\"--\",\"-\")\n",
    "\n",
    "            md_filename = (str(pub_date) + \"-\" + url_slug + \".md\").replace(\"--\",\"-\")\n",
    "            html_filename = (str(pub_date) + \"-\" + url_slug).replace(\"--\",\"-\")\n",
    "\n",
    "            \n",
    "            \n",
    "            #########################################\n",
    "            # citation authors\n",
    "            author_citation = \"\"\n",
    "            authors = bibdata.entries[bib_id].persons[\"author\"]\n",
    "            for author in authors:\n",
    "                author_citation += \" \"\\\n",
    "                            +author.first_names[0].replace(\"{\", \"\").replace(\"}\",\"\").replace(\"\\\\\",\"\")+\" \"\\\n",
    "                            +author.last_names[0].replace(\"{\", \"\").replace(\"}\",\"\").replace(\"\\\\\",\"\")+\", \"\n",
    "                \n",
    "            if len(authors) > 10:\n",
    "                author_citation = authors[0].first_names[0].replace(\"{\", \"\").replace(\"}\",\"\").replace(\"\\\\\",\"\")+\" \"\\\n",
    "                            +authors[0].last_names[0].replace(\"{\", \"\").replace(\"}\",\"\").replace(\"\\\\\",\"\")+\" and others, \"\n",
    "\n",
    "            ##########################################\n",
    "            # Build Citation from text\n",
    "            citation = \"\"\n",
    "\n",
    "            # citation title\n",
    "            citation += \"\\\"\" + b[\"title\"].replace(\"{\", \"\").replace(\"}\",\"\").replace(\"\\\\\",\"\").replace(\"\\\"\",\"\") + \"\\\",\"\n",
    "            \n",
    "            # citation author list\n",
    "            citation += author_citation \n",
    "            \n",
    "            # add venue logic depending on citation type\n",
    "            venue = publist[pubsource][\"venue-pretext\"]+b[publist[pubsource][\"venuekey\"]].replace(\"{\", \"\").replace(\"}\",\"\").replace(\"\\\\\",\"\")\n",
    "            \n",
    "            if venue == 'prd':\n",
    "                venue = '<strong>PRD</strong>'\n",
    "            if venue == 'prl':\n",
    "                venue = '<strong>PRL</strong>'\n",
    "            if venue == 'arXiv e-prints':\n",
    "                venue = '<em>arXiv preprint</em>'\n",
    "\n",
    "            citation += \" \" + html_escape(venue)\n",
    "            citation += \", \" + pub_year\n",
    "\n",
    "            ##########################################\n",
    "            ## YAML variables\n",
    "            md = \"---\\ntitle: \\\"\"   + b[\"title\"].replace(\"{\", \"\").replace(\"}\",\"\").replace(\"\\\\\",\"\")+ '\"\\n'\n",
    "\n",
    "            md += \"\"\"authors: \"\"\"   + html_escape(author_citation)[:-2] + '\\n'\n",
    "\n",
    "            md += \"\"\"collection: \"\"\" +  publist[pubsource][\"collection\"][\"name\"]\n",
    "\n",
    "            md += \"\"\"\\npermalink: \"\"\" + publist[pubsource][\"collection\"][\"permalink\"]  + html_filename\n",
    "            \n",
    "            note = False\n",
    "            if \"note\" in b.keys():\n",
    "                if len(str(b[\"note\"])) > 5:\n",
    "                    md += \"\\nexcerpt: '\" + html_escape(b[\"note\"]) + \"'\"\n",
    "                    note = True\n",
    "\n",
    "            md += \"\\ndate: \" + str(pub_date) \n",
    "\n",
    "            md += \"\\nvenue: '\" + html_escape(venue) + \"'\"\n",
    "            \n",
    "            url = False\n",
    "            if \"url\" in b.keys():\n",
    "                if len(str(b[\"url\"])) > 5:\n",
    "                    md += \"\\npaperurl: '\" + b[\"url\"] + \"'\"\n",
    "                    url = True\n",
    "            \n",
    "            md += \"\\ncitation: '\" + citation + \", '\"\n",
    "\n",
    "            md += \"\\neprint: '\" + html_escape(b[\"eprint\"]) +\"'\\n\"\n",
    "\n",
    "            md += \"---\"\n",
    "                \n",
    "            md_filename = os.path.basename(md_filename)\n",
    "\n",
    "            with open(\"../_publications/\" + md_filename, 'w') as f:\n",
    "                f.write(md)\n",
    "            print(f'SUCESSFULLY PARSED {bib_id}: \\\"', b[\"title\"][:60],\"...\"*(len(b['title'])>60),\"\\\"\")\n",
    "        # field may not exist for a reference\n",
    "        except KeyError as e:\n",
    "            print(f'WARNING Missing Expected Field {e} from entry {bib_id}: \\\"', b[\"title\"][:30],\"...\"*(len(b['title'])>30),\"\\\"\")\n",
    "            continue\n"
   ]
  },
  {
   "cell_type": "code",
   "execution_count": null,
   "metadata": {},
   "outputs": [],
   "source": []
  },
  {
   "cell_type": "code",
   "execution_count": null,
   "metadata": {},
   "outputs": [],
   "source": []
  },
  {
   "cell_type": "code",
   "execution_count": null,
   "metadata": {},
   "outputs": [],
   "source": []
  }
 ],
 "metadata": {
  "kernelspec": {
   "display_name": "Python 3",
   "language": "python",
   "name": "python3"
  },
  "language_info": {
   "codemirror_mode": {
    "name": "ipython",
    "version": 3
   },
   "file_extension": ".py",
   "mimetype": "text/x-python",
   "name": "python",
   "nbconvert_exporter": "python",
   "pygments_lexer": "ipython3",
   "version": "3.9.5"
  }
 },
 "nbformat": 4,
 "nbformat_minor": 2
}
