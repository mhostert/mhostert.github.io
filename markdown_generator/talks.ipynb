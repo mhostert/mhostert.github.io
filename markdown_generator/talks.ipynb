{
 "cells": [
  {
   "cell_type": "markdown",
   "metadata": {},
   "source": [
    "# Talks markdown generator for academicpages\n",
    "\n",
    "Takes a TSV of talks with metadata and converts them for use with [academicpages.github.io](academicpages.github.io). This is an interactive Jupyter notebook ([see more info here](http://jupyter-notebook-beginner-guide.readthedocs.io/en/latest/what_is_jupyter.html)). The core python code is also in `talks.py`. Run either from the `markdown_generator` folder after replacing `talks.tsv` with one containing your data.\n",
    "\n",
    "TODO: Make this work with BibTex and other databases, rather than Stuart's non-standard TSV format and citation style."
   ]
  },
  {
   "cell_type": "code",
   "execution_count": 6,
   "metadata": {},
   "outputs": [],
   "source": [
    "import pandas as pd\n",
    "import os\n",
    "import numpy as np"
   ]
  },
  {
   "cell_type": "markdown",
   "metadata": {},
   "source": [
    "## Creating a CV list"
   ]
  },
  {
   "cell_type": "code",
   "execution_count": 7,
   "metadata": {},
   "outputs": [],
   "source": [
    "import datetime"
   ]
  },
  {
   "cell_type": "code",
   "execution_count": 8,
   "metadata": {},
   "outputs": [],
   "source": [
    "talks['type'].unique().sort()"
   ]
  },
  {
   "cell_type": "code",
   "execution_count": 9,
   "metadata": {},
   "outputs": [],
   "source": [
    "nice_list = ''\n",
    "space = '\\\\vspace{2ex}'\n",
    "sorted_list = ['plenary talk', 'invited talk', 'invited parallel talk', 'parallel talk', 'invited seminar']\n",
    "for category in sorted_list:\n",
    "    \n",
    "    if len(category)>0:    \n",
    "        # nice_list += '\\\\begin{minipage}{\\\\textwidth}\\n'\n",
    "        # nice_list += f'{space}\\n'\n",
    "        nice_list += f'\\\\textBF{{{category.capitalize()}s}}\\n'\n",
    "        nice_list += f'\\\\vspace{{-2ex}}'\n",
    "        # nice_list += '\\\\begin{enumerate}\\n'\n",
    "        nice_list += '\\\\begin{longtable}{r c p{14 cm}}\\n'\n",
    "        mask = (talks['type'] == category)\n",
    "        for id, talk in talks[mask][::-1].iterrows():\n",
    "            list_date = talk['date'].split(' / ')\n",
    "            date = datetime.date(int('20'+list_date[1]),int(list_date[0]), 1).strftime('%B %Y')\n",
    "            nice_list += f\"{date}& --- &\"+f\"{ talk['venue']}, \".replace(\"&\",\"\\&\")\n",
    "            if talk['city'] != '' and talk['city'] != 'Virtual':\n",
    "                nice_list += f\"{talk['city']}, \".replace(\"&\",\"\\&\")\n",
    "            nice_list += f\"{talk['location']} \\\\\\\\ \\n\".replace(\"&\",\"\\&\")\n",
    "\n",
    "        # nice_list += '\\end{enumerate}\\n'\n",
    "        nice_list += '\\end{longtable}\\n'\n",
    "        nice_list += f'\\\\vspace{{-3.5ex}}\\n'\n",
    "        # nice_list += '\\\\end{minipage}\\n\\n'\n"
   ]
  },
  {
   "cell_type": "code",
   "execution_count": 10,
   "metadata": {},
   "outputs": [
    {
     "name": "stdout",
     "output_type": "stream",
     "text": [
      "\\textBF{Plenary talks}\n",
      "\\vspace{-2ex}\\begin{longtable}{r c p{14 cm}}\n",
      "March 2022& --- &KITP, Interdisciplinary Developments in Neutrino Physics, Santa Barbara, USA \\\\ \n",
      "October 2020& --- &3rd South American Dark Matter Workshop, ICTP, São Paulo, Brazil \\\\ \n",
      "November 2020& --- &Central American meeting of High Energy Physics, Cosmology and High Energy Astrophysics, Cidade da Guatemala, Central America \\\\ \n",
      "December 2019& --- &NuPhys 2019, London, UK \\\\ \n",
      "October 2019& --- &CERN Neutrino Platform Week 2019, CERN, Switzerland \\\\ \n",
      "April 2019& --- &Prospects of Neutrino Physics, IPMU, Kashiwa, Japan \\\\ \n",
      "\\end{longtable}\n",
      "\\vspace{-3.5ex}\n",
      "\\textBF{Invited talks}\n",
      "\\vspace{-2ex}\\begin{longtable}{r c p{14 cm}}\n",
      "December 2022& --- &PITT PACC Workshop: Nu Tools for BSM at Neutrino Beam Facilities, Pittsburgh, USA \\\\ \n",
      "September 2022& --- &ICTP Program on New Directions in Particle Physics, São Paulo, Brazil \\\\ \n",
      "June 2022& --- &Neutrino Theory Workshop, NuTs, Madrid, Spain \\\\ \n",
      "October 2021& --- &Virginia Tech, neutrino seminar, Blacksbourgh, USA \\\\ \n",
      "September 2021& --- &UK Muon Collider and NuSTORM meeting, UK \\\\ \n",
      "August 2021& --- &vSTORM collaboration meeting, CERN \\\\ \n",
      "December 2020& --- &Snowmass Dark Sector Studies at High Intensities Frontier, USA \\\\ \n",
      "October 2020& --- &PIKIMO 9, Kentucky, Kentucky, USA \\\\ \n",
      "October 2020& --- &Snowmass Baryon and Lepton Number Violating Processes workshop, USA \\\\ \n",
      "September 2020& --- &Snowmass Theory of neutrino physics mini-workshop, USA \\\\ \n",
      "September 2020& --- &Snowmass Neutrino Frontier 03 kick-off meeting, USA \\\\ \n",
      "May 2019& --- &Neutrino Theory Network Workshop, Washington U., St Louis, St Louis, USA \\\\ \n",
      "December 2018& --- &Physics Opportunities at the Near Detector of DUNE (PONDD), Fermilab, Fermilab, USA \\\\ \n",
      "June 2018& --- &Near detector workshop 2018, CERN, CERN, Switzerland \\\\ \n",
      "\\end{longtable}\n",
      "\\vspace{-3.5ex}\n",
      "\\textBF{Invited parallel talks}\n",
      "\\vspace{-2ex}\\begin{longtable}{r c p{14 cm}}\n",
      "September 2022& --- &CIPANP 2022, Orlando, USA \\\\ \n",
      "July 2022& --- &Snowmass 2022, Seattle, USA \\\\ \n",
      "September 2018& --- &Neutrino Oscillation Workshop 2018, Ostuni, Italy \\\\ \n",
      "August 2018& --- &NuFact 2018, Virginia, Blacksbourg, USA \\\\ \n",
      "May 2018& --- &Phenomenology Symposium 2018, Pittsburgh, USA \\\\ \n",
      "\\end{longtable}\n",
      "\\vspace{-3.5ex}\n",
      "\\textBF{Parallel talks}\n",
      "\\vspace{-2ex}\\begin{longtable}{r c p{14 cm}}\n",
      "August 2022& --- &TeVPA 2022, Kingston, Canada \\\\ \n",
      "July 2021& --- &American Physics Society Division of Particles and Fields meeting, USA \\\\ \n",
      "April 2021& --- &American Physics Society April Meeting, USA \\\\ \n",
      "February 2021& --- &XIX International Workshop on Neutrino Telescopes, Italy \\\\ \n",
      "July 2020& --- &ICHEP 2020, Prague, Czech Republic \\\\ \n",
      "June 2020& --- &Neutrino 2020, University of Chicago, Chicago, USA \\\\ \n",
      "May 2020& --- &Phenomenology Symposium 2020, Pittsburgh, Pittsburgh, USA \\\\ \n",
      "June 2019& --- &Invisibles Workshop 2019, Valencia, Valencia, Spain \\\\ \n",
      "\\end{longtable}\n",
      "\\vspace{-3.5ex}\n",
      "\\textBF{Invited seminars}\n",
      "\\vspace{-2ex}\\begin{longtable}{r c p{14 cm}}\n",
      "December 2022& --- &Northwestern University, Chicago, USA \\\\ \n",
      "December 2022& --- &Los Alamos National Laboratory, Los Alamos, USA \\\\ \n",
      "November 2022& --- &Carleton University, Ottawa, Canada \\\\ \n",
      "March 2022& --- &University of Texas A\\&M, College Station, USA \\\\ \n",
      "March 2022& --- &University of Toronto, Toronto, Canada \\\\ \n",
      "February 2022& --- &TRIUMF/University of Victoria, Victoria, Canada \\\\ \n",
      "January 2022& --- &University of Kentucky, Kentucky, USA \\\\ \n",
      "December 2021& --- &SLAC, Stanford National Laboratory, USA \\\\ \n",
      "November 2021& --- &Harvard University, family meeting, Boston, USA \\\\ \n",
      "September 2021& --- &Perimeter Institute, particle physics seminar, Waterloo, Canada \\\\ \n",
      "May 2021& --- &McGill University, Montreal, Canada \\\\ \n",
      "April 2021& --- &ETH, Zurich, Zurich, Switzerland \\\\ \n",
      "April 2021& --- &C3P, UCLouvain, Louvain, Belgium \\\\ \n",
      "April 2021& --- &Carleton University, Carleton, Canada \\\\ \n",
      "March 2021& --- &University of California Santa Cruz, Santa Cruz, USA \\\\ \n",
      "March 2021& --- &Neutrino Seminar, Fermilab, Fermilab, USA \\\\ \n",
      "June 2020& --- &JGU Theorie Palaver, Mainz, Munich, Germany \\\\ \n",
      "May 2020& --- &Brookhaven Neutrino Theory Virtual Seminars, Brookhaven National Laboratory, USA \\\\ \n",
      "February 2020& --- &Fermilab Theory Seminar, Fermilab, USA \\\\ \n",
      "August 2019& --- &Columbia University, New York, USA \\\\ \n",
      "August 2019& --- &MicroBooNE collaboration call, USA \\\\ \n",
      "May 2019& --- &IFIC, Valencia, Valencia, Spain \\\\ \n",
      "March 2019& --- &Queen Mary University of London, London, UK \\\\ \n",
      "November 2018& --- &Max-Planck-Institut fur Kernphysik, Heidelberg, Heidelberg, Germany \\\\ \n",
      "June 2018& --- &Perimeter Institute, Waterloo, Canada \\\\ \n",
      "May 2018& --- &Fermilab Theory Seminar, Fermilab, USA \\\\ \n",
      "\\end{longtable}\n",
      "\\vspace{-3.5ex}\n",
      "\n"
     ]
    }
   ],
   "source": [
    "print(nice_list)"
   ]
  },
  {
   "cell_type": "code",
   "execution_count": null,
   "metadata": {},
   "outputs": [],
   "source": []
  }
 ],
 "metadata": {
  "kernelspec": {
   "display_name": "Python 3.9.12 ('base')",
   "language": "python",
   "name": "python3"
  },
  "language_info": {
   "codemirror_mode": {
    "name": "ipython",
    "version": 3
   },
   "file_extension": ".py",
   "mimetype": "text/x-python",
   "name": "python",
   "nbconvert_exporter": "python",
   "pygments_lexer": "ipython3",
   "version": "3.9.13"
  },
  "vscode": {
   "interpreter": {
    "hash": "3067ead486e059ec00ffe7555bdb889e6e264a24dc711bf108106cc7baee8d5d"
   }
  }
 },
 "nbformat": 4,
 "nbformat_minor": 1
}
