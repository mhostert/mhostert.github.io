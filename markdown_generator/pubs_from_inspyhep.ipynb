{
 "cells": [
  {
   "cell_type": "code",
   "execution_count": 1,
   "metadata": {},
   "outputs": [],
   "source": [
    "%load_ext autoreload\n",
    "%autoreload 2 "
   ]
  },
  {
   "cell_type": "code",
   "execution_count": 2,
   "metadata": {},
   "outputs": [],
   "source": [
    "import inspyhep\n",
    "from inspyhep import Author, InspireRecord\n",
    "import datetime"
   ]
  },
  {
   "cell_type": "code",
   "execution_count": 3,
   "metadata": {},
   "outputs": [],
   "source": [
    "from inspyhep.literature_tools import InspireRecord, make_request, json_load_hits\n",
    "\n",
    "class Institution():\n",
    "    def __init__(self, identifier, max_hits: int = 1000):\n",
    "        \"\"\" Institution()\n",
    "\n",
    "            Parameters\n",
    "            ----------\n",
    "            identifier : str\n",
    "                the institutions's identifier number (e.g. '1119124' for ICTP-SAIFR Sao Paulo`)\n",
    "             max_hits: str\n",
    "                the maximum number of hits in query\n",
    "\n",
    "        \"\"\"\n",
    "\n",
    "        self.identifier    = identifier\n",
    "        self.snapshot_date = datetime.datetime.now()\n",
    "        self.max_hits = max_hits\n",
    "        \n",
    "        # Query Inspire-HEP for author's information\n",
    "        self.literature_query = f'https://inspirehep.net/api/institutions?size={self.max_hits}&q={self.identifier}'\n",
    "        self.full_json_records = json_load_hits(self.literature_query)\n",
    "\n",
    "        # # how many records found?\n",
    "        self.num_hits = len(self.full_json_records)\n",
    "\n",
    "        # # Fill in information about author's papers from the website response\n",
    "        # self.inspire_records = self.get_records_dict(self.full_json_records)\n",
    "\n",
    "        # # total number of citations\n",
    "        # self.citations = self.get_total_number_of_citations(self.inspire_records, )\n",
    "        # self.citations_noself = self.get_total_number_of_citations(self.inspire_records, self_cite=False)\n",
    "\n"
   ]
  },
  {
   "cell_type": "code",
   "execution_count": 4,
   "metadata": {},
   "outputs": [
    {
     "name": "stderr",
     "output_type": "stream",
     "text": [
      "/Users/matheushostert/Repos/inspy-hep/src/inspyhep/literature_tools.py:282: UserWarning: Capping at 10 authors in record {self.texkey}.\n",
      "  warnings.warn(\"Capping at 10 authors in record {self.texkey}.\")\n"
     ]
    }
   ],
   "source": [
    "mh = Author('M.Hostert.1')"
   ]
  },
  {
   "cell_type": "code",
   "execution_count": 5,
   "metadata": {},
   "outputs": [
    {
     "name": "stdout",
     "output_type": "stream",
     "text": [
      "SUCESSFULLY PARSED A panorama of new-physics explanations to the MiniBooNE excess, Asli M. Abdullahi, Jaime Hoefken Zink, Matheus Hostert, Daniele Massaro, Silvia Pascoli, preprint, 2023\n",
      "SUCESSFULLY PARSED Semivisible dark photon phenomenology at the GeV scale, Asli M. Abdullahi, Matheus Hostert, Daniele Massaro, Silvia Pascoli, Phys.Rev.D 108 (2023) 1 015032\n",
      "SUCESSFULLY PARSED New physics in multi-electron muon decays, Matheus Hostert, Tony Menzo, Maxim Pospelov, Jure Zupan, preprint, 2023\n",
      "SUCESSFULLY PARSED Pion decay constraints on exotic 17 MeV vector bosons, Matheus Hostert, Maxim Pospelov, preprint, 2023\n",
      "SUCESSFULLY PARSED Effective portals to heavy neutral leptons, Enrique Fernández-Martínez, Manuel González-López, Josu Hernández-García, Matheus Hostert, Jacobo López-Pavón, preprint, 2023\n",
      "SUCESSFULLY PARSED Constraining light thermal inelastic dark matter with NA64, Martina Mongillo, Asli Abdullahi, Benjamin Banto Oberhauser, Paolo Crivelli, Matheus Hostert, Daniele Massaro, Laura Molina Bueno, Silvia Pascoli, Eur.Phys.J.C 83 (2023) 5 391\n",
      "SUCESSFULLY PARSED Semi-Visible Dark Photon Phenomenology at the GeV Scale, Asli M. Abdullahi, Matheus Hostert, Daniele Massaro, Silvia Pascoli, preprint, 2023\n",
      "SUCESSFULLY PARSED Implications of MicroBooNE’s low sensitivity to electron antineutrino interactions in the search for the MiniBooNE excess, Nicholas W. Kamp, Matheus Hostert, Carlos A. Argüelles, Janet M. Conrad, Michael H. Shaevitz, Phys.Rev.D 107 (2023) 9 092002\n",
      "SUCESSFULLY PARSED DarkNews: a Python-based event generator for heavy neutral lepton production in neutrino-nucleus scattering, Asli M. Abdullahi, Jaime Hoefken Zink, Matheus Hostert, Daniele Massaro, Silvia Pascoli, preprint, 2022\n",
      "SUCESSFULLY PARSED Dipole-coupled heavy-neutral-lepton explanations of the MiniBooNE excess including constraints from MINERvA data, Nicholas W. Kamp, Matheus Hostert, Austin Schneider, Stefano Vergani, Carlos A. Argüelles, Janet M. Conrad, Michael H. Shaevitz, Melissa A. Uchida, Phys.Rev.D 107 (2023) 5 055009\n",
      "SUCESSFULLY PARSED Efficiently exploring multidimensional parameter spaces beyond the Standard Model, Carlos A. Argüelles, Nicolò Foppiani, Matheus Hostert, Phys.Rev.D 107 (2023) 3 035027\n",
      "SUCESSFULLY PARSED Dark sectors in neutron-shining-through-a-wall and nuclear-absorption signals, Matheus Hostert, David McKeen, Maxim Pospelov, Nirmal Raj, Phys.Rev.D 107 (2023) 7 075034\n",
      "SUCESSFULLY PARSED MicroBooNE and the νe Interpretation of the MiniBooNE Low-Energy Excess, C. A. Argüelles, I. Esteban, M. Hostert, Kevin J. Kelly, J. Kopp, P. A. N. Machado, I. Martinez-Soler, Y. F. Perez-Gonzalez, Phys.Rev.Lett. 128 (2022) 24 241802\n",
      "SUCESSFULLY PARSED Heavy neutral leptons below the kaon mass at hodoscopic neutrino detectors, Carlos A. Argüelles, Nicolò Foppiani, Matheus Hostert, Phys.Rev.D 105 (2022) 9 095006\n",
      "SUCESSFULLY PARSED Novel multilepton signatures of dark sectors in light meson decays, Matheus Hostert, Maxim Pospelov, Phys.Rev.D 105 (2022) 1 015017\n",
      "SUCESSFULLY PARSED Constraints on decaying sterile neutrinos from solar antineutrinos, Matheus Hostert, Maxim Pospelov, Phys.Rev.D 104 (2021) 5 055031\n",
      "SUCESSFULLY PARSED A dark seesaw solution to low energy anomalies: MiniBooNE, the muon (g − 2), and BaBar, Asli Abdullahi, Matheus Hostert, Silvia Pascoli, Phys.Lett.B 820 (2021) 136531\n",
      "SUCESSFULLY PARSED Pair production of dark particles in meson decays, Matheus Hostert, Kunio Kaneta, Maxim Pospelov, Phys.Rev.D 102 (2020) 5 055016\n",
      "SUCESSFULLY PARSED Neutrino Masses from a Dark Neutrino Sector below the Electroweak Scale, Peter Ballett, Matheus Hostert, Silvia Pascoli, Phys.Rev.D 99 (2019) 9 091701\n",
      "SUCESSFULLY PARSED Dark Neutrinos and a Three Portal Connection to the Standard Model, Peter Ballett, Matheus Hostert, Silvia Pascoli, Phys.Rev.D 101 (2020) 11 115025\n",
      "SUCESSFULLY PARSED Zs in neutrino scattering at DUNE, Peter Ballett, Matheus Hostert, Silvia Pascoli, Yuber F. Perez-Gonzalez, Zahra Tabrizi, Renata Zukanovich Funchal, Phys.Rev.D 100 (2019) 5 055012\n",
      "SUCESSFULLY PARSED Neutrino trident production at near detectors, Matheus Hostert, PoS NOW2018 (2019) 037\n",
      "SUCESSFULLY PARSED Hidden Physics at the Neutrino Frontier: Tridents, Dark Forces, and Hidden Particles, Matheus. Hostert, thesis, 2019\n",
      "SUCESSFULLY PARSED Testing New Physics Explanations of the MiniBooNE Anomaly at Neutrino Scattering Experiments, Carlos A. Argüelles, Matheus Hostert, Yu-Dai Tsai, Phys.Rev.Lett. 123 (2019) 26 261801\n",
      "SUCESSFULLY PARSED Neutrino Trident Scattering at Near Detectors, Peter Ballett, Matheus Hostert, Silvia Pascoli, Yuber F. Perez-Gonzalez, Zahra Tabrizi, Renata Zukanovich Funchal, JHEP 01 (2019) 119\n",
      "SUCESSFULLY PARSED Light Sterile Neutrinos at \\nuSTORM: Decoherence and CP violation, Peter Ballett, Matheus Hostert, Silvia Pascoli, proceedings, 2017\n"
     ]
    },
    {
     "name": "stderr",
     "output_type": "stream",
     "text": [
      "/Users/matheushostert/Repos/inspy-hep/src/inspyhep/author_tools.py:11: GuessedAtParserWarning: No parser was explicitly specified, so I'm using the best available HTML parser for this system (\"lxml\"). This usually isn't a problem, but if you run this code on another system, or in a different virtual environment, it may use a different parser and behave differently.\n",
      "\n",
      "The code that caused this warning is on line 11 of the file /Users/matheushostert/Repos/inspy-hep/src/inspyhep/author_tools.py. To get rid of this warning, pass the additional argument 'features=\"lxml\"' to the BeautifulSoup constructor.\n",
      "\n",
      "  soup = BeautifulSoup(string)\n",
      "/usr/local/anaconda3/envs/py39/lib/python3.9/site-packages/bs4/__init__.py:435: MarkupResemblesLocatorWarning: The input looks more like a filename than markup. You may want to open this file and pass the filehandle into Beautiful Soup.\n",
      "  warnings.warn(\n"
     ]
    }
   ],
   "source": [
    "mh.get_markdown_descriptor(max_nauthors=9, path='../_publications/')"
   ]
  },
  {
   "cell_type": "code",
   "execution_count": 50,
   "metadata": {},
   "outputs": [
    {
     "name": "stderr",
     "output_type": "stream",
     "text": [
      "/Users/matheushostert/Repos/inspy-hep/src/inspyhep/literature_tools.py:282: UserWarning: Capping at 10 authors in record {self.texkey}.\n",
      "  warnings.warn(\"Capping at 10 authors in record {self.texkey}.\")\n"
     ]
    }
   ],
   "source": [
    "ac = Author('A.Cheek.1')\n",
    "ap = Author('A.D.Plascencia.1')\n",
    "mh = Author('M.Hostert.1')"
   ]
  },
  {
   "cell_type": "code",
   "execution_count": 6,
   "metadata": {},
   "outputs": [
    {
     "data": {
      "text/plain": [
       "'https://inspirehep.net/api/authors?q=ids.value:M.Hostert.1'"
      ]
     },
     "execution_count": 6,
     "metadata": {},
     "output_type": "execute_result"
    }
   ],
   "source": [
    "mh.author_metadata_query"
   ]
  },
  {
   "cell_type": "code",
   "execution_count": 7,
   "metadata": {},
   "outputs": [
    {
     "ename": "NameError",
     "evalue": "name 'ac' is not defined",
     "output_type": "error",
     "traceback": [
      "\u001b[0;31m---------------------------------------------------------------------------\u001b[0m",
      "\u001b[0;31mNameError\u001b[0m                                 Traceback (most recent call last)",
      "Cell \u001b[0;32mIn[7], line 1\u001b[0m\n\u001b[0;32m----> 1\u001b[0m \u001b[39mfor\u001b[39;00m a \u001b[39min\u001b[39;00m [ac, ap, mh]:\n\u001b[1;32m      2\u001b[0m     total \u001b[39m=\u001b[39m a\u001b[39m.\u001b[39mget_total_number_of_citations(max_nauthors\u001b[39m=\u001b[39m\u001b[39m10\u001b[39m, self_cite\u001b[39m=\u001b[39m\u001b[39mTrue\u001b[39;00m) \n\u001b[1;32m      3\u001b[0m     noself \u001b[39m=\u001b[39m a\u001b[39m.\u001b[39mget_total_number_of_citations(max_nauthors\u001b[39m=\u001b[39m\u001b[39m10\u001b[39m, self_cite\u001b[39m=\u001b[39m\u001b[39mFalse\u001b[39;00m)\n",
      "\u001b[0;31mNameError\u001b[0m: name 'ac' is not defined"
     ]
    }
   ],
   "source": [
    "for a in [ac, ap, mh]:\n",
    "    total = a.get_total_number_of_citations(max_nauthors=10, self_cite=True) \n",
    "    noself = a.get_total_number_of_citations(max_nauthors=10, self_cite=False)\n",
    "    coauthors = a.get_coauthors()\n",
    "    coauthors_cap10 = a.get_coauthors(max_nauthors=10)\n",
    "    print(f\"\\nAuthor: {a.metadata.last_name}, citations {a.citations}\") \n",
    "    print(f\"self cite ratio: {(total-noself)/total}\")\n",
    "    print(f\"Number of coauthors: {len(coauthors)} total, {len(coauthors_cap10)}\")\n",
    "\n"
   ]
  },
  {
   "cell_type": "code",
   "execution_count": 14,
   "metadata": {},
   "outputs": [
    {
     "name": "stdout",
     "output_type": "stream",
     "text": [
      "\\textbf{Peer-reviewed publications}\n",
      "\\begin{enumerate}\n",
      "\\item Semivisible dark photon phenomenology at the GeV scale, Asli M. Abdullahi, Matheus Hostert, Daniele Massaro, Silvia Pascoli, Phys.Rev.D 108 (2023) 1 015032.\n",
      "\\item Constraining light thermal inelastic dark matter with NA64, Martina Mongillo, Asli Abdullahi, Benjamin Banto Oberhauser, Paolo Crivelli, Matheus Hostert, Daniele Massaro, Laura Molina Bueno, Silvia Pascoli, Eur.Phys.J.C 83 (2023) 5 391, arXiv:2302.05414 [hep-ph], citations: 5.\n",
      "\\item Implications of MicroBooNE’s low sensitivity to electron antineutrino interactions in the search for the MiniBooNE excess, Nicholas W. Kamp, Matheus Hostert, Carlos A. Argüelles, Janet M. Conrad, Michael H. Shaevitz, Phys.Rev.D 107 (2023) 9 092002, arXiv:2301.12573 [hep-ph], citations: 2.\n",
      "\\item Dipole-coupled heavy-neutral-lepton explanations of the MiniBooNE excess including constraints from MINERvA data, Nicholas W. Kamp, Matheus Hostert, Austin Schneider, Stefano Vergani, Carlos A. Argüelles, Janet M. Conrad, Michael H. Shaevitz, Melissa A. Uchida, Phys.Rev.D 107 (2023) 5 055009, arXiv:2206.07100 [hep-ph], citations: \\textbf{16}.\n",
      "\\item Efficiently exploring multidimensional parameter spaces beyond the Standard Model, Carlos A. Argüelles, Nicolò Foppiani, Matheus Hostert, Phys.Rev.D 107 (2023) 3 035027, arXiv:2205.12273 [hep-ph], citations: 6.\n",
      "\\item Dark sectors in neutron-shining-through-a-wall and nuclear-absorption signals, Matheus Hostert, David McKeen, Maxim Pospelov, Nirmal Raj, Phys.Rev.D 107 (2023) 7 075034, arXiv:2201.02603 [hep-ph], citations: 8.\n",
      "\\item MicroBooNE and the <math display=\"inline\"><mrow><msub><mrow><mi>ν</mi></mrow><mrow><mi>e</mi></mrow></msub></mrow></math> Interpretation of the MiniBooNE Low-Energy Excess, C. A. Argüelles, I. Esteban, M. Hostert, Kevin J. Kelly, J. Kopp, P. A. N. Machado, I. Martinez-Soler, Y. F. Perez-Gonzalez, Phys.Rev.Lett. 128 (2022) 24 241802, arXiv:2111.10359 [hep-ph], citations: \\textbf{60}.\n",
      "\\item Heavy neutral leptons below the kaon mass at hodoscopic neutrino detectors, Carlos A. Argüelles, Nicolò Foppiani, Matheus Hostert, Phys.Rev.D 105 (2022) 9 095006, arXiv:2109.03831 [hep-ph], citations: \\textbf{35}.\n",
      "\\item Novel multilepton signatures of dark sectors in light meson decays, Matheus Hostert, Maxim Pospelov, Phys.Rev.D 105 (2022) 1 015017, arXiv:2012.02142 [hep-ph], citations: \\textbf{22}.\n",
      "\\item Constraints on decaying sterile neutrinos from solar antineutrinos, Matheus Hostert, Maxim Pospelov, Phys.Rev.D 104 (2021) 5 055031, arXiv:2008.11851 [hep-ph], citations: \\textbf{19}.\n",
      "\\item A dark seesaw solution to low energy anomalies: MiniBooNE, the muon (g − 2), and BaBar, Asli Abdullahi, Matheus Hostert, Silvia Pascoli, Phys.Lett.B 820 (2021) 136531, arXiv:2007.11813 [hep-ph], citations: \\textbf{58}.\n",
      "\\item Pair production of dark particles in meson decays, Matheus Hostert, Kunio Kaneta, Maxim Pospelov, Phys.Rev.D 102 (2020) 5 055016, arXiv:2005.07102 [hep-ph], citations: \\textbf{23}.\n",
      "\\item Neutrino Masses from a Dark Neutrino Sector below the Electroweak Scale, Peter Ballett, Matheus Hostert, Silvia Pascoli, Phys.Rev.D 99 (2019) 9 091701, arXiv:1903.07590 [hep-ph], citations: \\textbf{48}.\n",
      "\\item Dark Neutrinos and a Three Portal Connection to the Standard Model, Peter Ballett, Matheus Hostert, Silvia Pascoli, Phys.Rev.D 101 (2020) 11 115025, arXiv:1903.07589 [hep-ph], citations: \\textbf{74}.\n",
      "\\item Z^\\primes in neutrino scattering at DUNE, Peter Ballett, Matheus Hostert, Silvia Pascoli, Yuber F. Perez-Gonzalez, Zahra Tabrizi, Renata Zukanovich Funchal, Phys.Rev.D 100 (2019) 5 055012, arXiv:1902.08579 [hep-ph], citations: \\textbf{63}.\n",
      "\\item Neutrino trident production at near detectors, Matheus Hostert, PoS NOW2018 (2019) 037, citations: 1.\n",
      "\\item Testing New Physics Explanations of the MiniBooNE Anomaly at Neutrino Scattering Experiments, Carlos A. Argüelles, Matheus Hostert, Yu-Dai Tsai, Phys.Rev.Lett. 123 (2019) 26 261801, arXiv:1812.08768 [hep-ph], citations: \\textbf{70}.\n",
      "\\item Neutrino Trident Scattering at Near Detectors, Peter Ballett, Matheus Hostert, Silvia Pascoli, Yuber F. Perez-Gonzalez, Zahra Tabrizi, Renata Zukanovich Funchal, JHEP 01 (2019) 119, arXiv:1807.10973 [hep-ph], citations: \\textbf{50}.\n",
      "\\end{enumerate}\n",
      "\\textbf{Under review or non-peer reviewed publications}\n",
      "\\begin{enumerate} \n",
      "\\item A panorama of new-physics explanations to the MiniBooNE excess, Asli M. Abdullahi, Jaime Hoefken Zink, Matheus Hostert, Daniele Massaro, Silvia Pascoli, preprint, 2023, arXiv:2308.02543 [hep-ph].\n",
      "\\item New physics in multi-electron muon decays, Matheus Hostert, Tony Menzo, Maxim Pospelov, Jure Zupan, preprint, 2023, arXiv:2306.15631 [hep-ph].\n",
      "\\item Pion decay constraints on exotic 17 MeV vector bosons, Matheus Hostert, Maxim Pospelov, preprint, 2023, arXiv:2306.15077 [hep-ph], citations: 1.\n",
      "\\item Effective portals to heavy neutral leptons, Enrique Fernández-Martínez, Manuel González-López, Josu Hernández-García, Matheus Hostert, Jacobo López-Pavón, preprint, 2023, arXiv:2304.06772 [hep-ph], citations: 9.\n",
      "\\item Semi-Visible Dark Photon Phenomenology at the GeV Scale, Asli M. Abdullahi, Matheus Hostert, Daniele Massaro, Silvia Pascoli, preprint, 2023, arXiv:2302.05410 [hep-ph], citations: 6.\n",
      "\\item DarkNews: a Python-based event generator for heavy neutral lepton production in neutrino-nucleus scattering, Asli M. Abdullahi, Jaime Hoefken Zink, Matheus Hostert, Daniele Massaro, Silvia Pascoli, preprint, 2022, arXiv:2207.04137 [hep-ph], citations: 6.\n",
      "\\item Hidden Physics at the Neutrino Frontier: Tridents, Dark Forces, and Hidden Particles, Matheus. Hostert, thesis, 2019.\n",
      "\\item Light Sterile Neutrinos at \\nuSTORM: Decoherence and CP violation, Peter Ballett, Matheus Hostert, Silvia Pascoli, proceedings, 2017, arXiv:1705.09214 [hep-ph], citations: 1.\n",
      "\\end{enumerate}\n"
     ]
    }
   ],
   "source": [
    "print(mh.nice_publication_list(author_count_to_exclude=10, cap_author_list=10, split_peer_review=True, latex_itemize=True))"
   ]
  },
  {
   "cell_type": "code",
   "execution_count": 40,
   "metadata": {},
   "outputs": [],
   "source": [
    "import inspire_schemas as ischemas\n",
    "from inspire_schemas import utils\n",
    "from inspire_schemas.builders import AuthorBuilder\n",
    "from inspire_schemas.builders.builder import RecordBuilder"
   ]
  },
  {
   "cell_type": "code",
   "execution_count": 43,
   "metadata": {},
   "outputs": [],
   "source": [
    "import inspire_utils as iutils"
   ]
  },
  {
   "cell_type": "code",
   "execution_count": 56,
   "metadata": {},
   "outputs": [
    {
     "data": {
      "text/plain": [
       "<HumanName : [\n",
       "\ttitle: 'Dr.' \n",
       "\tfirst: 'Matheus' \n",
       "\tmiddle: 'William' \n",
       "\tlast: 'Hostert' \n",
       "\tsuffix: 'vi'\n",
       "\tnickname: ''\n",
       "]>"
      ]
     },
     "execution_count": 56,
     "metadata": {},
     "output_type": "execute_result"
    }
   ],
   "source": [
    "iutils.name.ParsedName(name='Dr. Matheus William Hostert vi', constants='')"
   ]
  },
  {
   "cell_type": "code",
   "execution_count": 37,
   "metadata": {},
   "outputs": [
    {
     "data": {
      "text/plain": [
       "AuthorBuilder(source=None, record={'_collections': ['Authors']})"
      ]
     },
     "execution_count": 37,
     "metadata": {},
     "output_type": "execute_result"
    }
   ],
   "source": [
    "AuthorBuilder."
   ]
  },
  {
   "cell_type": "code",
   "execution_count": 20,
   "metadata": {},
   "outputs": [
    {
     "ename": "AttributeError",
     "evalue": "module 'os' has no attribute 'cat'",
     "output_type": "error",
     "traceback": [
      "\u001b[0;31m---------------------------------------------------------------------------\u001b[0m",
      "\u001b[0;31mAttributeError\u001b[0m                            Traceback (most recent call last)",
      "Cell \u001b[0;32mIn[20], line 2\u001b[0m\n\u001b[1;32m      1\u001b[0m \u001b[39mimport\u001b[39;00m \u001b[39mos\u001b[39;00m\n\u001b[0;32m----> 2\u001b[0m os\u001b[39m.\u001b[39;49mcat(\u001b[39m'\u001b[39m\u001b[39m/usr/local/anaconda3/envs/py39/lib/python3.9/site-packages/inspire_schemas\u001b[39m\u001b[39m'\u001b[39m)\n",
      "\u001b[0;31mAttributeError\u001b[0m: module 'os' has no attribute 'cat'"
     ]
    }
   ],
   "source": [
    "import os\n",
    "os.cat('/usr/local/anaconda3/envs/py39/lib/python3.9/site-packages/inspire_schemas')"
   ]
  }
 ],
 "metadata": {
  "kernelspec": {
   "display_name": "py39",
   "language": "python",
   "name": "python3"
  },
  "language_info": {
   "codemirror_mode": {
    "name": "ipython",
    "version": 3
   },
   "file_extension": ".py",
   "mimetype": "text/x-python",
   "name": "python",
   "nbconvert_exporter": "python",
   "pygments_lexer": "ipython3",
   "version": "3.9.15"
  },
  "orig_nbformat": 4,
  "vscode": {
   "interpreter": {
    "hash": "dbc1128b55dfe7674910d9dec9178b9135ab71c646c7080f47e59389499c8905"
   }
  }
 },
 "nbformat": 4,
 "nbformat_minor": 2
}
