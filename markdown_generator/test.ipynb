{
 "cells": [
  {
   "cell_type": "code",
   "execution_count": 1,
   "metadata": {},
   "outputs": [],
   "source": [
    "%load_ext autoreload\n",
    "%autoreload 2 "
   ]
  },
  {
   "cell_type": "code",
   "execution_count": 2,
   "metadata": {},
   "outputs": [
    {
     "name": "stdout",
     "output_type": "stream",
     "text": [
      "https://inspirehep.net/api/authors?q=ids.value:M.Hostert.1\n"
     ]
    },
    {
     "ename": "IndexError",
     "evalue": "list index out of range",
     "output_type": "error",
     "traceback": [
      "\u001b[0;31m---------------------------------------------------------------------------\u001b[0m",
      "\u001b[0;31mIndexError\u001b[0m                                Traceback (most recent call last)",
      "\u001b[1;32m/Users/matheushostert/Repos/website/markdown_generator/test.ipynb Cell 2\u001b[0m line \u001b[0;36m1\n\u001b[1;32m      <a href='vscode-notebook-cell:/Users/matheushostert/Repos/website/markdown_generator/test.ipynb#W0sZmlsZQ%3D%3D?line=6'>7</a>\u001b[0m \u001b[39mfor\u001b[39;00m f \u001b[39min\u001b[39;00m files:\n\u001b[1;32m      <a href='vscode-notebook-cell:/Users/matheushostert/Repos/website/markdown_generator/test.ipynb#W0sZmlsZQ%3D%3D?line=7'>8</a>\u001b[0m     os\u001b[39m.\u001b[39mremove(f)\n\u001b[0;32m---> <a href='vscode-notebook-cell:/Users/matheushostert/Repos/website/markdown_generator/test.ipynb#W0sZmlsZQ%3D%3D?line=9'>10</a>\u001b[0m mh \u001b[39m=\u001b[39m Author(\u001b[39m\"\u001b[39;49m\u001b[39mM.Hostert.1\u001b[39;49m\u001b[39m\"\u001b[39;49m)\n\u001b[1;32m     <a href='vscode-notebook-cell:/Users/matheushostert/Repos/website/markdown_generator/test.ipynb#W0sZmlsZQ%3D%3D?line=10'>11</a>\u001b[0m mh\u001b[39m.\u001b[39mget_markdown_descriptor(max_nauthors\u001b[39m=\u001b[39m\u001b[39m9\u001b[39m, path\u001b[39m=\u001b[39m\u001b[39m\"\u001b[39m\u001b[39m../_publications/\u001b[39m\u001b[39m\"\u001b[39m)\n",
      "File \u001b[0;32m~/Repos/inspy-hep/src/inspyhep/author_tools.py:59\u001b[0m, in \u001b[0;36mAuthor.__init__\u001b[0;34m(self, identifier, max_papers)\u001b[0m\n\u001b[1;32m     57\u001b[0m     \u001b[39mself\u001b[39m\u001b[39m.\u001b[39mauthor_metadata_query \u001b[39m=\u001b[39m \u001b[39mf\u001b[39m\u001b[39m\"\u001b[39m\u001b[39mhttps://inspirehep.net/api/authors?q=ids.value:\u001b[39m\u001b[39m{\u001b[39;00m\u001b[39mself\u001b[39m\u001b[39m.\u001b[39mbai\u001b[39m}\u001b[39;00m\u001b[39m\"\u001b[39m\n\u001b[1;32m     58\u001b[0m     \u001b[39mprint\u001b[39m(\u001b[39mself\u001b[39m\u001b[39m.\u001b[39mauthor_metadata_query)\n\u001b[0;32m---> 59\u001b[0m     \u001b[39mself\u001b[39m\u001b[39m.\u001b[39mjson_metadata \u001b[39m=\u001b[39m json_load_hits(make_request(\u001b[39mself\u001b[39;49m\u001b[39m.\u001b[39;49mauthor_metadata_query))[\u001b[39m0\u001b[39;49m][\u001b[39m\"\u001b[39m\u001b[39mmetadata\u001b[39m\u001b[39m\"\u001b[39m]\n\u001b[1;32m     61\u001b[0m \u001b[39m## We start by loading the overview of the author\u001b[39;00m\n\u001b[1;32m     62\u001b[0m \u001b[39mself\u001b[39m\u001b[39m.\u001b[39mmetadata \u001b[39m=\u001b[39m metadata\u001b[39m.\u001b[39mauthor(\u001b[39m*\u001b[39m\u001b[39m*\u001b[39m\u001b[39mself\u001b[39m\u001b[39m.\u001b[39mjson_metadata)\n",
      "\u001b[0;31mIndexError\u001b[0m: list index out of range"
     ]
    }
   ],
   "source": [
    "from inspyhep import Author\n",
    "import os\n",
    "import glob\n",
    "\n",
    "files = glob.glob(\"../_publications/*.md\")\n",
    "\n",
    "for f in files:\n",
    "    os.remove(f)\n",
    "\n",
    "mh = Author(\"Matheus.Hostert.1\")\n",
    "mh.get_markdown_descriptor(max_nauthors=9, path=\"../_publications/\")\n"
   ]
  }
 ],
 "metadata": {
  "kernelspec": {
   "display_name": "py39",
   "language": "python",
   "name": "python3"
  },
  "language_info": {
   "codemirror_mode": {
    "name": "ipython",
    "version": 3
   },
   "file_extension": ".py",
   "mimetype": "text/x-python",
   "name": "python",
   "nbconvert_exporter": "python",
   "pygments_lexer": "ipython3",
   "version": "3.9.15"
  }
 },
 "nbformat": 4,
 "nbformat_minor": 2
}
