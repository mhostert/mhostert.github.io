{
 "cells": [
  {
   "cell_type": "code",
   "execution_count": 1,
   "metadata": {},
   "outputs": [],
   "source": [
    "%load_ext autoreload\n",
    "%autoreload 2 "
   ]
  },
  {
   "cell_type": "code",
   "execution_count": 3,
   "metadata": {},
   "outputs": [
    {
     "name": "stderr",
     "output_type": "stream",
     "text": [
      "/Users/mhostert/Repos/inspy-hep/src/inspyhep/literature_tools.py:282: UserWarning: Capping at 10 authors in record {self.texkey}.\n",
      "  warnings.warn(\"Capping at 10 authors in record {self.texkey}.\")\n"
     ]
    }
   ],
   "source": [
    "from inspyhep import InspireRecord, Author\n",
    "MH = Author('Matheus.Hostert.1')\n"
   ]
  },
  {
   "cell_type": "code",
   "execution_count": 4,
   "metadata": {},
   "outputs": [
    {
     "data": {
      "text/plain": [
       "758"
      ]
     },
     "execution_count": 4,
     "metadata": {},
     "output_type": "execute_result"
    }
   ],
   "source": [
    "MH.citations"
   ]
  },
  {
   "cell_type": "code",
   "execution_count": 6,
   "metadata": {},
   "outputs": [
    {
     "name": "stdout",
     "output_type": "stream",
     "text": [
      "\\textbf{Peer-reviewed publications}\n",
      "\\begin{enumerate}\n",
      "\\item New physics in multi-electron muon decays, Matheus Hostert, Tony Menzo, Maxim Pospelov, Jure Zupan, JHEP 10 (2023) 006, arXiv:2306.15631 [hep-ph], citations: 3.\n",
      "\\item Pion decay constraints on exotic 17 MeV vector bosons, Matheus Hostert, Maxim Pospelov, Phys.Rev.D 108 (2023) 5 055011, arXiv:2306.15077 [hep-ph], citations: 10.\n",
      "\\item Effective portals to heavy neutral leptons, Enrique Fernández-Martínez, Manuel González-López, Josu Hernández-García, Matheus Hostert, Jacobo López-Pavón, JHEP 09 (2023) 001, arXiv:2304.06772 [hep-ph], citations: \\textbf{35}.\n",
      "\\item Constraining light thermal inelastic dark matter with NA64, Martina Mongillo, Asli Abdullahi, Benjamin Banto Oberhauser, Paolo Crivelli, Silvia Pascoli, Eur.Phys.J.C 83 (2023) 5 391, arXiv:2302.05414 [hep-ph], citations: 9.\n",
      "\\item Semi-Visible Dark Photon Phenomenology at the GeV Scale, Asli M. Abdullahi, Matheus Hostert, Daniele Massaro, Silvia Pascoli, Phys.Rev.D 108 (2023) 1 015032, arXiv:2302.05410 [hep-ph], citations: \\textbf{13}.\n",
      "\\item Implications of MicroBooNE’s low sensitivity to electron antineutrino interactions in the search for the MiniBooNE excess, Nicholas W. Kamp, Matheus Hostert, Carlos A. Argüelles, Janet M. Conrad, Michael H. Shaevitz, Phys.Rev.D 107 (2023) 9 092002, arXiv:2301.12573 [hep-ph], citations: 4.\n",
      "\\item DarkNews: A Python-based event generator for heavy neutral lepton production in neutrino-nucleus scattering, Asli M. Abdullahi, Jaime Hoefken Zink, Matheus Hostert, Daniele Massaro, Silvia Pascoli, Comput.Phys.Commun. 297 (2024) 109075, arXiv:2207.04137 [hep-ph], citations: 8.\n",
      "\\item Dipole-coupled heavy-neutral-lepton explanations of the MiniBooNE excess including constraints from MINERvA data, Nicholas W. Kamp, Matheus Hostert, Austin Schneider, Stefano Vergani, Melissa A. Uchida, Phys.Rev.D 107 (2023) 5 055009, arXiv:2206.07100 [hep-ph], citations: \\textbf{18}.\n",
      "\\item Efficiently exploring multidimensional parameter spaces beyond the Standard Model, Carlos A. Argüelles, Nicolò Foppiani, Matheus Hostert, Phys.Rev.D 107 (2023) 3 035027, arXiv:2205.12273 [hep-ph], citations: 6.\n",
      "\\item Dark sectors in neutron-shining-through-a-wall and nuclear-absorption signals, Matheus Hostert, David McKeen, Maxim Pospelov, Nirmal Raj, Phys.Rev.D 107 (2023) 7 075034, arXiv:2201.02603 [hep-ph], citations: \\textbf{16}.\n",
      "\\item MicroBooNE and the νe Interpretation of the MiniBooNE Low-Energy Excess, C. A. Argüelles, I. Esteban, M. Hostert, Kevin J. Kelly, Y. F. Perez-Gonzalez, Phys.Rev.Lett. 128 (2022) 24 241802, arXiv:2111.10359 [hep-ph], citations: \\textbf{78}.\n",
      "\\item Heavy neutral leptons below the kaon mass at hodoscopic neutrino detectors, Carlos A. Argüelles, Nicolò Foppiani, Matheus Hostert, Phys.Rev.D 105 (2022) 9 095006, arXiv:2109.03831 [hep-ph], citations: \\textbf{46}.\n",
      "\\item Novel multilepton signatures of dark sectors in light meson decays, Matheus Hostert, Maxim Pospelov, Phys.Rev.D 105 (2022) 1 015017, arXiv:2012.02142 [hep-ph], citations: \\textbf{35}.\n",
      "\\item Constraints on decaying sterile neutrinos from solar antineutrinos, Matheus Hostert, Maxim Pospelov, Phys.Rev.D 104 (2021) 5 055031, arXiv:2008.11851 [hep-ph], citations: \\textbf{22}.\n",
      "\\item A dark seesaw solution to low energy anomalies: MiniBooNE, the muon (g − 2), and BaBar, Asli Abdullahi, Matheus Hostert, Silvia Pascoli, Phys.Lett.B 820 (2021) 136531, arXiv:2007.11813 [hep-ph], citations: \\textbf{63}.\n",
      "\\item Pair production of dark particles in meson decays, Matheus Hostert, Kunio Kaneta, Maxim Pospelov, Phys.Rev.D 102 (2020) 5 055016, arXiv:2005.07102 [hep-ph], citations: \\textbf{28}.\n",
      "\\item Neutrino Masses from a Dark Neutrino Sector below the Electroweak Scale, Peter Ballett, Matheus Hostert, Silvia Pascoli, Phys.Rev.D 99 (2019) 9 091701, arXiv:1903.07590 [hep-ph], citations: \\textbf{54}.\n",
      "\\item Dark Neutrinos and a Three Portal Connection to the Standard Model, Peter Ballett, Matheus Hostert, Silvia Pascoli, Phys.Rev.D 101 (2020) 11 115025, arXiv:1903.07589 [hep-ph], citations: \\textbf{85}.\n",
      "\\item Z^\\primes in neutrino scattering at DUNE, Peter Ballett, Matheus Hostert, Silvia Pascoli, Yuber F. Perez-Gonzalez, Renata Zukanovich Funchal, Phys.Rev.D 100 (2019) 5 055012, arXiv:1902.08579 [hep-ph], citations: \\textbf{70}.\n",
      "\\item Neutrino trident production at near detectors, Matheus Hostert, PoS NOW2018 (2019) 037, citations: 1.\n",
      "\\item Testing New Physics Explanations of the MiniBooNE Anomaly at Neutrino Scattering Experiments, Carlos A. Argüelles, Matheus Hostert, Yu-Dai Tsai, Phys.Rev.Lett. 123 (2019) 26 261801, arXiv:1812.08768 [hep-ph], citations: \\textbf{80}.\n",
      "\\item Neutrino Trident Scattering at Near Detectors, Peter Ballett, Matheus Hostert, Silvia Pascoli, Yuber F. Perez-Gonzalez, Renata Zukanovich Funchal, JHEP 01 (2019) 119, arXiv:1807.10973 [hep-ph], citations: \\textbf{62}.\n",
      "\\end{enumerate}\n",
      "\\textbf{Under review or non-peer reviewed publications}\n",
      "\\begin{enumerate} \n",
      "\\item Muon-induced baryon number violation, Patrick J. Fox, Matheus Hostert, Tony Menzo, Maxim Pospelov, Jure Zupan, preprint, 2024, arXiv:2407.03450 [hep-ph], citations: 2.\n",
      "\\item Decaying sterile neutrinos at short baselines, Matheus Hostert, Kevin J. Kelly, Tao Zhou, preprint, 2024, arXiv:2406.04401 [hep-ph].\n",
      "\\item Resonant Neutrino Flavor Conversion in the Atmosphere, Connor Sponsler, Matheus Hostert, Ivan Martinez-Soler, Carlos A. Argüelles, preprint, 2024, arXiv:2405.12140 [hep-ph].\n",
      "\\item A panorama of new-physics explanations to the MiniBooNE excess, Asli M. Abdullahi, Jaime Hoefken Zink, Matheus Hostert, Daniele Massaro, Silvia Pascoli, preprint, 2023, arXiv:2308.02543 [hep-ph], citations: 9.\n",
      "\\item Hidden Physics at the Neutrino Frontier: Tridents, Dark Forces, and Hidden Particles, Matheus. Hostert, thesis, 2019.\n",
      "\\item Light Sterile Neutrinos at \\nuSTORM: Decoherence and CP violation, Peter Ballett, Matheus Hostert, Silvia Pascoli, proceedings, 2017, arXiv:1705.09214 [hep-ph], citations: 1.\n",
      "\\end{enumerate}\n"
     ]
    }
   ],
   "source": [
    "print(MH.nice_publication_list(latex_itemize=True, split_peer_review=True))"
   ]
  },
  {
   "cell_type": "code",
   "execution_count": 2,
   "metadata": {},
   "outputs": [
    {
     "name": "stderr",
     "output_type": "stream",
     "text": [
      "/Users/mhostert/Repos/inspy-hep/src/inspyhep/literature_tools.py:282: UserWarning: Capping at 10 authors in record {self.texkey}.\n",
      "  warnings.warn(\"Capping at 10 authors in record {self.texkey}.\")\n"
     ]
    },
    {
     "name": "stdout",
     "output_type": "stream",
     "text": [
      "SUCESSFULLY PARSED Muon-induced baryon number violation, Patrick J. Fox, Matheus Hostert, Tony Menzo, Maxim Pospelov, Jure Zupan, preprint, 2024\n",
      "SUCESSFULLY PARSED Decaying sterile neutrinos at short baselines, Matheus Hostert, Kevin J. Kelly, Tao Zhou, preprint, 2024\n",
      "SUCESSFULLY PARSED Resonant Neutrino Flavor Conversion in the Atmosphere, Connor Sponsler, Matheus Hostert, Ivan Martinez-Soler, Carlos A. Argüelles, preprint, 2024\n",
      "SUCESSFULLY PARSED A panorama of new-physics explanations to the MiniBooNE excess, Asli M. Abdullahi, Jaime Hoefken Zink, Matheus Hostert, Daniele Massaro, Silvia Pascoli, preprint, 2023\n",
      "SUCESSFULLY PARSED New physics in multi-electron muon decays, Matheus Hostert, Tony Menzo, Maxim Pospelov, Jure Zupan, JHEP 10 (2023) 006\n",
      "SUCESSFULLY PARSED Pion decay constraints on exotic 17 MeV vector bosons, Matheus Hostert, Maxim Pospelov, Phys.Rev.D 108 (2023) 5 055011\n",
      "SUCESSFULLY PARSED Effective portals to heavy neutral leptons, Enrique Fernández-Martínez, Manuel González-López, Josu Hernández-García, Matheus Hostert, Jacobo López-Pavón, JHEP 09 (2023) 001\n",
      "SUCESSFULLY PARSED Constraining light thermal inelastic dark matter with NA64, Martina Mongillo, Asli Abdullahi, Benjamin Banto Oberhauser, Paolo Crivelli, Matheus Hostert, Daniele Massaro, Laura Molina Bueno, Silvia Pascoli, Eur.Phys.J.C 83 (2023) 5 391\n",
      "SUCESSFULLY PARSED Semi-Visible Dark Photon Phenomenology at the GeV Scale, Asli M. Abdullahi, Matheus Hostert, Daniele Massaro, Silvia Pascoli, Phys.Rev.D 108 (2023) 1 015032\n",
      "SUCESSFULLY PARSED Implications of MicroBooNE’s low sensitivity to electron antineutrino interactions in the search for the MiniBooNE excess, Nicholas W. Kamp, Matheus Hostert, Carlos A. Argüelles, Janet M. Conrad, Michael H. Shaevitz, Phys.Rev.D 107 (2023) 9 092002\n",
      "SUCESSFULLY PARSED DarkNews: A Python-based event generator for heavy neutral lepton production in neutrino-nucleus scattering, Asli M. Abdullahi, Jaime Hoefken Zink, Matheus Hostert, Daniele Massaro, Silvia Pascoli, Comput.Phys.Commun. 297 (2024) 109075\n",
      "SUCESSFULLY PARSED Dipole-coupled heavy-neutral-lepton explanations of the MiniBooNE excess including constraints from MINERvA data, Nicholas W. Kamp, Matheus Hostert, Austin Schneider, Stefano Vergani, Carlos A. Argüelles, Janet M. Conrad, Michael H. Shaevitz, Melissa A. Uchida, Phys.Rev.D 107 (2023) 5 055009\n",
      "SUCESSFULLY PARSED Efficiently exploring multidimensional parameter spaces beyond the Standard Model, Carlos A. Argüelles, Nicolò Foppiani, Matheus Hostert, Phys.Rev.D 107 (2023) 3 035027\n",
      "SUCESSFULLY PARSED Dark sectors in neutron-shining-through-a-wall and nuclear-absorption signals, Matheus Hostert, David McKeen, Maxim Pospelov, Nirmal Raj, Phys.Rev.D 107 (2023) 7 075034\n",
      "SUCESSFULLY PARSED MicroBooNE and the νe Interpretation of the MiniBooNE Low-Energy Excess, C. A. Argüelles, I. Esteban, M. Hostert, Kevin J. Kelly, J. Kopp, P. A. N. Machado, I. Martinez-Soler, Y. F. Perez-Gonzalez, Phys.Rev.Lett. 128 (2022) 24 241802\n",
      "SUCESSFULLY PARSED Heavy neutral leptons below the kaon mass at hodoscopic neutrino detectors, Carlos A. Argüelles, Nicolò Foppiani, Matheus Hostert, Phys.Rev.D 105 (2022) 9 095006\n",
      "SUCESSFULLY PARSED Novel multilepton signatures of dark sectors in light meson decays, Matheus Hostert, Maxim Pospelov, Phys.Rev.D 105 (2022) 1 015017\n",
      "SUCESSFULLY PARSED Constraints on decaying sterile neutrinos from solar antineutrinos, Matheus Hostert, Maxim Pospelov, Phys.Rev.D 104 (2021) 5 055031\n",
      "SUCESSFULLY PARSED A dark seesaw solution to low energy anomalies: MiniBooNE, the muon (g − 2), and BaBar, Asli Abdullahi, Matheus Hostert, Silvia Pascoli, Phys.Lett.B 820 (2021) 136531\n",
      "SUCESSFULLY PARSED Pair production of dark particles in meson decays, Matheus Hostert, Kunio Kaneta, Maxim Pospelov, Phys.Rev.D 102 (2020) 5 055016\n",
      "SUCESSFULLY PARSED Neutrino Masses from a Dark Neutrino Sector below the Electroweak Scale, Peter Ballett, Matheus Hostert, Silvia Pascoli, Phys.Rev.D 99 (2019) 9 091701\n",
      "SUCESSFULLY PARSED Dark Neutrinos and a Three Portal Connection to the Standard Model, Peter Ballett, Matheus Hostert, Silvia Pascoli, Phys.Rev.D 101 (2020) 11 115025\n",
      "SUCESSFULLY PARSED Zs in neutrino scattering at DUNE, Peter Ballett, Matheus Hostert, Silvia Pascoli, Yuber F. Perez-Gonzalez, Zahra Tabrizi, Renata Zukanovich Funchal, Phys.Rev.D 100 (2019) 5 055012\n",
      "SUCESSFULLY PARSED Neutrino trident production at near detectors, Matheus Hostert, PoS NOW2018 (2019) 037\n",
      "SUCESSFULLY PARSED Hidden Physics at the Neutrino Frontier: Tridents, Dark Forces, and Hidden Particles, Matheus. Hostert, thesis, 2019\n",
      "SUCESSFULLY PARSED Testing New Physics Explanations of the MiniBooNE Anomaly at Neutrino Scattering Experiments, Carlos A. Argüelles, Matheus Hostert, Yu-Dai Tsai, Phys.Rev.Lett. 123 (2019) 26 261801\n",
      "SUCESSFULLY PARSED Neutrino Trident Scattering at Near Detectors, Peter Ballett, Matheus Hostert, Silvia Pascoli, Yuber F. Perez-Gonzalez, Zahra Tabrizi, Renata Zukanovich Funchal, JHEP 01 (2019) 119\n",
      "SUCESSFULLY PARSED Light Sterile Neutrinos at \\nuSTORM: Decoherence and CP violation, Peter Ballett, Matheus Hostert, Silvia Pascoli, proceedings, 2017\n"
     ]
    },
    {
     "name": "stderr",
     "output_type": "stream",
     "text": [
      "/Users/mhostert/Repos/inspy-hep/src/inspyhep/author_tools.py:12: GuessedAtParserWarning: No parser was explicitly specified, so I'm using the best available HTML parser for this system (\"html.parser\"). This usually isn't a problem, but if you run this code on another system, or in a different virtual environment, it may use a different parser and behave differently.\n",
      "\n",
      "The code that caused this warning is on line 12 of the file /Users/mhostert/Repos/inspy-hep/src/inspyhep/author_tools.py. To get rid of this warning, pass the additional argument 'features=\"html.parser\"' to the BeautifulSoup constructor.\n",
      "\n",
      "  soup = BeautifulSoup(string)\n",
      "/Users/mhostert/Repos/inspy-hep/src/inspyhep/author_tools.py:12: MarkupResemblesLocatorWarning: The input looks more like a filename than markup. You may want to open this file and pass the filehandle into Beautiful Soup.\n",
      "  soup = BeautifulSoup(string)\n"
     ]
    }
   ],
   "source": [
    "from inspyhep import Author\n",
    "import os\n",
    "import glob\n",
    "\n",
    "files = glob.glob(\"../_publications/*.md\")\n",
    "\n",
    "for f in files:\n",
    "    os.remove(f)\n",
    "\n",
    "mh = Author(\"Matheus.Hostert.1\")\n",
    "mh.get_markdown_descriptor(max_nauthors=9, path=\"../_publications/\")\n"
   ]
  },
  {
   "cell_type": "code",
   "execution_count": null,
   "metadata": {},
   "outputs": [],
   "source": []
  }
 ],
 "metadata": {
  "kernelspec": {
   "display_name": "darknews",
   "language": "python",
   "name": "python3"
  },
  "language_info": {
   "codemirror_mode": {
    "name": "ipython",
    "version": 3
   },
   "file_extension": ".py",
   "mimetype": "text/x-python",
   "name": "python",
   "nbconvert_exporter": "python",
   "pygments_lexer": "ipython3",
   "version": "3.11.8"
  }
 },
 "nbformat": 4,
 "nbformat_minor": 2
}
